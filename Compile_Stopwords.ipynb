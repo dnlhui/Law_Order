{
 "cells": [
  {
   "cell_type": "code",
   "execution_count": 1,
   "metadata": {},
   "outputs": [],
   "source": [
    "import pandas as pd\n",
    "import numpy as np\n",
    "import nltk\n",
    "from collections import defaultdict"
   ]
  },
  {
   "cell_type": "markdown",
   "metadata": {},
   "source": [
    "## Import List of Words\n",
    "---\n",
    "### 1. NLTK Stopwords"
   ]
  },
  {
   "cell_type": "code",
   "execution_count": 2,
   "metadata": {},
   "outputs": [],
   "source": [
    "import string\n",
    "from nltk.corpus import stopwords"
   ]
  },
  {
   "cell_type": "code",
   "execution_count": 3,
   "metadata": {},
   "outputs": [
    {
     "data": {
      "text/plain": [
       "['you', \"you're\", \"you've\", \"you'll\", \"you'd\", 'your', 'yours']"
      ]
     },
     "execution_count": 3,
     "metadata": {},
     "output_type": "execute_result"
    }
   ],
   "source": [
    "eng_stopwords = list(stopwords.words('english'))\n",
    "eng_stopwords[8:15]"
   ]
  },
  {
   "cell_type": "markdown",
   "metadata": {},
   "source": [
    "Since I already removed punctuation from my scripts, I should remove punctuation from this list too"
   ]
  },
  {
   "cell_type": "code",
   "execution_count": 4,
   "metadata": {},
   "outputs": [
    {
     "data": {
      "text/plain": [
       "['you', 'youre', 'youve', 'youll', 'youd', 'your', 'yours']"
      ]
     },
     "execution_count": 4,
     "metadata": {},
     "output_type": "execute_result"
    }
   ],
   "source": [
    "remove_punct = str.maketrans(' ', ' ', string.punctuation)          # map string punctuation for removal\n",
    "for i in range(len(eng_stopwords)):\n",
    "    eng_stopwords[i] = eng_stopwords[i].translate(remove_punct)     # remove punctuation\n",
    "eng_stopwords[8:15]"
   ]
  },
  {
   "cell_type": "markdown",
   "metadata": {},
   "source": [
    "### 2. Common Words\n",
    "These are common words that appear in the corpus"
   ]
  },
  {
   "cell_type": "code",
   "execution_count": 5,
   "metadata": {},
   "outputs": [],
   "source": [
    "common_words_list = [\"one\",\"two\",\"three\",\"four\",\"five\",\"six\",\"seven\",\"eight\",\"nine\",\"ten\",\"twenty\",\n",
    "                     \"monday\",\"tuesday\",\"wendesday\",\"thursday\",\"friday\",\"saturday\",\"sunday\",\"mr\",\"ms\",\n",
    "                     \"mrs\",\"objection\", \"sustained\", \"im\", \"hes\", \"thats\", \"first\", \"second\", \"third\",\n",
    "                     \"things\",\"like\",\"well\",\"would\",\"cant\",\"whoa\",\"ill\",\"yes\",\"hey\",\"yeah\",\"michaels\"]"
   ]
  },
  {
   "cell_type": "markdown",
   "metadata": {},
   "source": [
    "### 3. Law & Order Character Surnames\n",
    "Use the surnames of the L&O characters as stopwords"
   ]
  },
  {
   "cell_type": "code",
   "execution_count": 6,
   "metadata": {},
   "outputs": [
    {
     "data": {
      "text/plain": [
       "['greevey', 'logan', 'cragen', 'stone', 'robinette']"
      ]
     },
     "execution_count": 6,
     "metadata": {},
     "output_type": "execute_result"
    }
   ],
   "source": [
    "characters = pd.read_csv(\"../05_Data/03_Source/law_order_character_surnames.csv\", header=None)\n",
    "characters[0] = characters[0].apply(lambda x: x.lower())    # lowercase the names\n",
    "characters_list = list(characters[0])                       # turn it into a list\n",
    "characters_list[:5]"
   ]
  },
  {
   "cell_type": "markdown",
   "metadata": {},
   "source": [
    "### 4. Common Male & Female Given Names"
   ]
  },
  {
   "cell_type": "code",
   "execution_count": 7,
   "metadata": {},
   "outputs": [
    {
     "data": {
      "text/plain": [
       "['aaron', 'abbie', 'abbott', 'abby', 'abdel']"
      ]
     },
     "execution_count": 7,
     "metadata": {},
     "output_type": "execute_result"
    }
   ],
   "source": [
    "given_names = pd.read_csv(\"../05_Data/02_Clean/names_in_script.csv\", index_col=0)\n",
    "given_names[\"0\"] = given_names['0'].apply(lambda x: x.lower())\n",
    "given_name_list = list(given_names['0'])\n",
    "given_name_list[:5]"
   ]
  },
  {
   "cell_type": "markdown",
   "metadata": {},
   "source": [
    "### 5. Common US Surnames"
   ]
  },
  {
   "cell_type": "code",
   "execution_count": 8,
   "metadata": {},
   "outputs": [
    {
     "data": {
      "text/plain": [
       "['smith', 'johnson', 'williams', 'jones', 'brown']"
      ]
     },
     "execution_count": 8,
     "metadata": {},
     "output_type": "execute_result"
    }
   ],
   "source": [
    "surnames = pd.read_csv(\"../05_Data/03_Source/Common_Surnames/common_surnames.csv\", header=None)\n",
    "surnames_list = list(surnames[0])\n",
    "surnames_list[:5]"
   ]
  },
  {
   "cell_type": "markdown",
   "metadata": {},
   "source": [
    "### 6. Geographic Names\n",
    "Top 50 US Cities, all Cities in NY State, 100 Cities in NJ, and 50 US States"
   ]
  },
  {
   "cell_type": "code",
   "execution_count": 9,
   "metadata": {},
   "outputs": [
    {
     "data": {
      "text/plain": [
       "['york', 'angeles', 'chicago', 'houston', 'phoenix']"
      ]
     },
     "execution_count": 9,
     "metadata": {},
     "output_type": "execute_result"
    }
   ],
   "source": [
    "geography = pd.read_csv(\"../05_Data/03_Source/cities_ny_nj_states.csv\", header=None)\n",
    "geography[0] = geography[0].apply(lambda x: x.lower())\n",
    "geography_list = list(geography[0])\n",
    "geography_list[:5]"
   ]
  },
  {
   "cell_type": "markdown",
   "metadata": {},
   "source": [
    "## Export Single List of Stopwords\n",
    "---"
   ]
  },
  {
   "cell_type": "code",
   "execution_count": 10,
   "metadata": {},
   "outputs": [
    {
     "data": {
      "text/plain": [
       "3702"
      ]
     },
     "execution_count": 10,
     "metadata": {},
     "output_type": "execute_result"
    }
   ],
   "source": [
    "law_order_stopwords = eng_stopwords + common_words_list + characters_list + given_name_list + surnames_list + geography_list\n",
    "len(law_order_stopwords)"
   ]
  },
  {
   "cell_type": "code",
   "execution_count": 11,
   "metadata": {},
   "outputs": [],
   "source": [
    "pd.DataFrame(law_order_stopwords).to_csv(\"../05_Data/02_Clean/all_stopwords.csv\")"
   ]
  },
  {
   "cell_type": "code",
   "execution_count": null,
   "metadata": {},
   "outputs": [],
   "source": []
  }
 ],
 "metadata": {
  "kernelspec": {
   "display_name": "Python 3",
   "language": "python",
   "name": "python3"
  },
  "language_info": {
   "codemirror_mode": {
    "name": "ipython",
    "version": 3
   },
   "file_extension": ".py",
   "mimetype": "text/x-python",
   "name": "python",
   "nbconvert_exporter": "python",
   "pygments_lexer": "ipython3",
   "version": "3.6.5"
  }
 },
 "nbformat": 4,
 "nbformat_minor": 2
}
